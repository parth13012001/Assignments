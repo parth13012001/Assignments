{
 "cells": [
  {
   "cell_type": "markdown",
   "id": "3479cc83",
   "metadata": {},
   "source": [
    "### 1.\tCreate a python program to find duplicate files by content. User will input path and it will scan all directories, sub-directories to find all duplicates files.\n",
    "Delete the found duplicate file.\n",
    "[Hint: use hashlib]\n"
   ]
  },
  {
   "cell_type": "code",
   "execution_count": 22,
   "id": "9b0e7013",
   "metadata": {},
   "outputs": [
    {
     "name": "stdout",
     "output_type": "stream",
     "text": [
      "Enter path of the first file: C:/Users/patyagi/Tek_python\n",
      "Duplicates: ['C:/Users/patyagi/Tek_python\\\\Dit.txt', 'C:/Users/patyagi/Tek_python\\\\F2.txt', 'C:/Users/patyagi/Tek_python\\\\F3.txt', 'C:/Users/patyagi/Tek_python\\\\Hello2.txt', 'C:/Users/patyagi/Tek_python\\\\xyz\\\\Dit2.txt', 'C:/Users/patyagi/Tek_python\\\\xyz\\\\F4.txt']\n",
      "Duplicates Remvoed!\n",
      "Duplicates Remaining: []\n"
     ]
    }
   ],
   "source": [
    "import hashlib\n",
    "import os\n",
    "\n",
    "def scanDuplicates(path):\n",
    "    dirList = os.listdir(path)\n",
    "\n",
    "    hashList = []\n",
    "    duplicate = []\n",
    "    pathDirDict = {path : dirList}\n",
    "\n",
    "\n",
    "    for i in dirList:\n",
    "        if '.' not in i:\n",
    "            pathDirDict[path + '\\\\' +  i] = os.listdir(path + '\\\\' + i)\n",
    "\n",
    "    for i in pathDirDict:\n",
    "        for j in pathDirDict[i]:\n",
    "            if '.txt' in j:\n",
    "\n",
    "                fileObj = open(i + '\\\\' + j)\n",
    "\n",
    "                str1 = fileObj.read().encode()\n",
    "\n",
    "                hash1 = hashlib.sha256(str1)\n",
    "\n",
    "                if hash1.hexdigest() in hashList:\n",
    "                    duplicate.append(i + '\\\\' + j)\n",
    "                else:\n",
    "                    hashList.append(hash1.hexdigest())\n",
    "\n",
    "                fileObj.close()\n",
    "                \n",
    "    return duplicate\n",
    "\n",
    "def removeDuplicate(duplicate):\n",
    "    for i in duplicate:\n",
    "        os.remove(i)\n",
    "    print(\"Duplicates Remvoed!\")\n",
    "    \n",
    "\n",
    "path = input(\"Enter path of the first file: \")\n",
    "\n",
    "duplicates = scanDuplicates(path)\n",
    "\n",
    "print(\"Duplicates:\", duplicates)\n",
    "\n",
    "removeDuplicate(duplicates)\n",
    "\n",
    "print(\"Duplicates Remaining:\", scanDuplicates(path))\n"
   ]
  },
  {
   "cell_type": "markdown",
   "id": "a6fe64e4",
   "metadata": {},
   "source": [
    "### 2.\tGenerate random Password with exact length = 6, with minimum 1 uppercase, 2 lowercase, 2 digits, and remaining special characters.\n",
    "Using these packages [random, strings]\n"
   ]
  },
  {
   "cell_type": "code",
   "execution_count": 3,
   "id": "6edc22e2",
   "metadata": {},
   "outputs": [
    {
     "name": "stdout",
     "output_type": "stream",
     "text": [
      "vG0\\8u\n"
     ]
    }
   ],
   "source": [
    "import random\n",
    "import string\n",
    "\n",
    "password=[]\n",
    "for i in range(0,2):\n",
    "    password.append(random.choice(string.ascii_lowercase))\n",
    "    password.append(random.choice(string.digits))\n",
    "password.append(random.choice(string.ascii_uppercase))\n",
    "password.append(random.choice(string.punctuation))\n",
    "random.shuffle(password)\n",
    "print(\"\".join(password))"
   ]
  },
  {
   "cell_type": "markdown",
   "id": "706f9f5d",
   "metadata": {},
   "source": [
    "### 3.\tCreate 2D array and update the same 2D array provided that every prime number position should be replaced by cube of the positioned number."
   ]
  },
  {
   "cell_type": "code",
   "execution_count": 11,
   "id": "d8cfe312",
   "metadata": {},
   "outputs": [
    {
     "name": "stdout",
     "output_type": "stream",
     "text": [
      "5\n",
      "5\n",
      "[[ 0  1  2  3  4]\n",
      " [ 5  6  7  8  9]\n",
      " [10 11 12 13 14]\n",
      " [15 16 17 18 19]\n",
      " [20 21 22 23 24]]\n",
      "[[    0     1     8    27     4]\n",
      " [  125     6   343     8     9]\n",
      " [   10  1331    12  2197    14]\n",
      " [   15    16  4913    18  6859]\n",
      " [   20    21    22 12167    24]]\n"
     ]
    }
   ],
   "source": [
    "import numpy as np\n",
    "def prime(pos):\n",
    "    c=0\n",
    "    for i in range(2,int(pos/2)+1):\n",
    "        if pos %i ==0:\n",
    "            c=1\n",
    "            break\n",
    "    if c==0:\n",
    "        return True\n",
    "    else:\n",
    "        return False\n",
    "n=int(input())\n",
    "m=int(input())\n",
    "arr=np.arange(n*m).reshape(n,m)\n",
    "print(arr)\n",
    "pos=0\n",
    "for i in range(n):\n",
    "    for j in range(m):\n",
    "        if prime(pos):\n",
    "            arr[i][j]=arr[i][j]*arr[i][j]*arr[i][j]\n",
    "        pos+=1\n",
    "print(arr)"
   ]
  },
  {
   "cell_type": "markdown",
   "id": "4b06de56",
   "metadata": {},
   "source": [
    "### 4.\tPython program to get the sum of every cubed value and its previous integer. "
   ]
  },
  {
   "cell_type": "code",
   "execution_count": 13,
   "id": "c9d20ba5",
   "metadata": {},
   "outputs": [
    {
     "name": "stdout",
     "output_type": "stream",
     "text": [
      "[[    0     1     9    35     4]\n",
      " [  134     6   349     8     9]\n",
      " [   10  1341    12  2209    14]\n",
      " [   15    16  4929    18  6877]\n",
      " [   20    21    22 12189    24]]\n"
     ]
    }
   ],
   "source": [
    "import numpy as np\n",
    "number =0\n",
    "arr2=np.empty_like(arr)\n",
    "for i in range(n):\n",
    "    for j in range(m):\n",
    "        if number !=0 and ((arr[i][j]/number)/number) ==number:\n",
    "            arr2[i][j] =arr[i][j] +arr[i][j-1]\n",
    "        else:\n",
    "            arr2[i][j]=arr[i][j]\n",
    "        number+=1\n",
    "print(arr2)"
   ]
  },
  {
   "cell_type": "markdown",
   "id": "0e2f90e1",
   "metadata": {},
   "source": [
    "### 5.\tGiven two arrays, find their intersection. Examples:\n",
    "\n",
    "Input:  arr1[] = [1, 3, 4, 5, 7]\n",
    "               arr2[] = [2, 3, 5, 6]\n"
   ]
  },
  {
   "cell_type": "code",
   "execution_count": 14,
   "id": "acc9ed70",
   "metadata": {},
   "outputs": [
    {
     "name": "stdout",
     "output_type": "stream",
     "text": [
      "[3 5]\n"
     ]
    }
   ],
   "source": [
    "import numpy as np\n",
    "arr1 = np.array([1, 3, 4, 5, 7])\n",
    "arr2 = np.array([2, 3, 5, 6])\n",
    "arr = np.intersect1d(arr1, arr2)\n",
    "print (arr)\n"
   ]
  },
  {
   "cell_type": "markdown",
   "id": "8c56a170",
   "metadata": {},
   "source": [
    "### 6.Create a 7 x 7  2D array having only multiples of 7. And return the last element of the same."
   ]
  },
  {
   "cell_type": "code",
   "execution_count": 15,
   "id": "9fc33e37",
   "metadata": {
    "scrolled": true
   },
   "outputs": [
    {
     "name": "stdout",
     "output_type": "stream",
     "text": [
      "[[  7  14  21  28  35  42  49]\n",
      " [ 56  63  70  77  84  91  98]\n",
      " [105 112 119 126 133 140 147]\n",
      " [154 161 168 175 182 189 196]\n",
      " [203 210 217 224 231 238 245]\n",
      " [252 259 266 273 280 287 294]\n",
      " [301 308 315 322 329 336 343]]\n",
      "\n",
      "Last element of the array is: 343\n"
     ]
    }
   ],
   "source": [
    "import numpy as np\n",
    "arr=np.zeros((7,7),dtype='int16')\n",
    "val=1\n",
    "for i in range(7):\n",
    "    for j in range(7):\n",
    "        arr[i][j]=7*val\n",
    "        val+=1\n",
    "print(arr)\n",
    "print(\"\\nLast element of the array is:\",arr[-1][-1])"
   ]
  },
  {
   "cell_type": "markdown",
   "id": "87809eb2",
   "metadata": {},
   "source": [
    "###  7.\tChecker Board Patten using Numpy:\n",
    "\n",
    "    [   1   0   1   0   1   0   1\n",
    "        0   1   0   1   0   1   0\n",
    "        1   0   1   0   1   0   1\n",
    "        0   1   0   1   0   1   0\n",
    "        1   0   1   0   1   0   1  ]\n"
   ]
  },
  {
   "cell_type": "code",
   "execution_count": 27,
   "id": "2b983cdc",
   "metadata": {},
   "outputs": [
    {
     "name": "stdout",
     "output_type": "stream",
     "text": [
      "Enter no of rows:5\n",
      "Enter no of columns:7\n",
      "[[1 0 1 0 1 0 1]\n",
      " [0 1 0 1 0 1 0]\n",
      " [1 0 1 0 1 0 1]\n",
      " [0 1 0 1 0 1 0]\n",
      " [1 0 1 0 1 0 1]]\n"
     ]
    }
   ],
   "source": [
    "import numpy as np\n",
    "n=int(input(\"Enter no of rows:\"))\n",
    "m=int(input(\"Enter no of columns:\"))\n",
    "arr=np.ones((n,m),dtype='int8')\n",
    "arr[1::2,::2]=0\n",
    "arr[::2,1::2]=0\n",
    "print(arr)"
   ]
  },
  {
   "cell_type": "markdown",
   "id": "4220ac82",
   "metadata": {},
   "source": [
    "### 8.\tCreate a given Matrix:\n",
    "    [  A,     B,     C,     D\n",
    "       E,     F,     G,     H\n",
    "       I,     J,     K,     L \n",
    "       M,     N,     O,     P\n",
    "       Q,     R,     S,     T\n",
    "       U,     V,     W,     X ]\n",
    "       \n",
    "       Replace all the vowels by np.nan\n",
    "       A, E, I, O U  -- >  np.nan\n",
    "       Return the count of the missing values\n",
    "\n"
   ]
  },
  {
   "cell_type": "code",
   "execution_count": 20,
   "id": "d39456d5",
   "metadata": {},
   "outputs": [
    {
     "name": "stdout",
     "output_type": "stream",
     "text": [
      "[['nan' 'B' 'C' 'D' 'nan' 'F']\n",
      " ['G' 'H' 'nan' 'J' 'K' 'L']\n",
      " ['M' 'N' 'nan' 'P' 'Q' 'R']\n",
      " ['S' 'T' 'nan' 'V' 'W' 'X']]\n",
      "\n",
      " 5\n"
     ]
    }
   ],
   "source": [
    "import string\n",
    "list1=list(string.ascii_uppercase)[:-2]\n",
    "array=np.array(list1).reshape(4,6)\n",
    "list1=array.tolist()\n",
    "vowels=['A','E','I','O','U']\n",
    "for i in range(0,len(list1)):\n",
    "    list1[i]=[np.nan if item in vowels else item for item in list1[i]]\n",
    "print(np.array(list1))\n",
    "    \n",
    "sum=0\n",
    "for i in list1:\n",
    "    sum+=i.count(np.nan)\n",
    "    \n",
    "print(\"\\n\",sum)"
   ]
  }
 ],
 "metadata": {
  "kernelspec": {
   "display_name": "Python 3 (ipykernel)",
   "language": "python",
   "name": "python3"
  },
  "language_info": {
   "codemirror_mode": {
    "name": "ipython",
    "version": 3
   },
   "file_extension": ".py",
   "mimetype": "text/x-python",
   "name": "python",
   "nbconvert_exporter": "python",
   "pygments_lexer": "ipython3",
   "version": "3.9.13"
  }
 },
 "nbformat": 4,
 "nbformat_minor": 5
}
